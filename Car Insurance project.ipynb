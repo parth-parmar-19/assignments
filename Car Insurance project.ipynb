{
  "nbformat": 4,
  "nbformat_minor": 0,
  "metadata": {
    "colab": {
      "provenance": []
    },
    "kernelspec": {
      "name": "python3",
      "display_name": "Python 3"
    },
    "language_info": {
      "name": "python"
    }
  },
  "cells": [
    {
      "cell_type": "code",
      "source": [
        "s = input(f'Enter your gender: ')\n",
        "s = s.lower()\n",
        "if (s == 'male'):\n",
        "  print(f'You are male')\n",
        "  a = int(input(f'Enter your age: '))\n",
        "  if (a<=26):\n",
        "    print(f'You are below 26: ')\n",
        "    percentage = 23\n",
        "  else:\n",
        "    print(f'You are above 26:  ')\n",
        "    percentage = 9\n",
        "elif (s == 'female'):\n",
        "  print(f'You are female: ')\n",
        "  b = input(f'Which car do you like: ')\n",
        "  b = b.lower()\n",
        "  if (b == 'sports'):\n",
        "    print(f'You like sports car: ')\n",
        "    percentage = 21\n",
        "  else:\n",
        "    print(f'You do not like sports car: ')\n",
        "    percentage = 10\n",
        "else:\n",
        "  print(f'Wrong information: ')\n",
        "\n",
        "mrp = int(input(f'Enter price of car: '))\n",
        "discount = mrp * percentage * 0.01\n",
        "print(f'Total discount is: {discount}')\n"
      ],
      "metadata": {
        "id": "OKBlObOd2HPI",
        "colab": {
          "base_uri": "https://localhost:8080/"
        },
        "outputId": "7f2ba6dd-e7ec-47c3-dece-50f97efb78a0"
      },
      "execution_count": null,
      "outputs": [
        {
          "output_type": "stream",
          "name": "stdout",
          "text": [
            "Enter your gender: female\n",
            "You are female: \n",
            "Which car do you like: sports\n",
            "You like sports car: \n",
            "Enter price of car: 100\n",
            "Total discount is: 21.0\n"
          ]
        }
      ]
    },
    {
      "cell_type": "code",
      "source": [],
      "metadata": {
        "id": "meocf7abPASz"
      },
      "execution_count": null,
      "outputs": []
    }
  ]
}