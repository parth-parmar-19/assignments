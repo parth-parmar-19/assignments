{
  "nbformat": 4,
  "nbformat_minor": 0,
  "metadata": {
    "colab": {
      "provenance": []
    },
    "kernelspec": {
      "name": "python3",
      "display_name": "Python 3"
    },
    "language_info": {
      "name": "python"
    }
  },
  "cells": [
    {
      "cell_type": "code",
      "source": [
        "# Guess the number\n",
        "import random"
      ],
      "metadata": {
        "id": "B4p_svv86t8o"
      },
      "execution_count": null,
      "outputs": []
    },
    {
      "cell_type": "code",
      "source": [
        "low= int(input('Enter the lower limit: '))\n",
        "up= int(input('Enter the upper limit: '))\n",
        "value= random.randint(low,up)\n",
        "\n",
        "guesses= 0\n",
        "while(guesses < 5):\n",
        "  print(f'Enter your guess: ')\n",
        "\n",
        "  guess= int(input())\n",
        "  if(guess == value):\n",
        "    print(f'Your guess is correct, You Won!!')\n",
        "    break\n",
        "  elif(guess < value):\n",
        "    print(f'Your guess is lower than the value: ')\n",
        "    guesses= guesses+1\n",
        "  elif(guess > value):\n",
        "    print(f'Your guess is higher than the value: ')\n",
        "    guesses= guesses+1\n",
        "  else:\n",
        "    print(f'Your guess is wrong')\n",
        "    break\n",
        "if(guesses == 5):\n",
        "  print(f'Your attempts are over: ')\n"
      ],
      "metadata": {
        "colab": {
          "base_uri": "https://localhost:8080/"
        },
        "id": "X1iytsVozLJZ",
        "outputId": "c737dacb-7657-499f-8b4d-6eb4e425c31c"
      },
      "execution_count": null,
      "outputs": [
        {
          "output_type": "stream",
          "name": "stdout",
          "text": [
            "Enter the lower limit: 1\n",
            "Enter the upper limit: 10\n",
            "Enter your guess: \n",
            "5\n",
            "Your guess is lower than the value: \n",
            "Enter your guess: \n",
            "6\n",
            "Your guess is lower than the value: \n",
            "Enter your guess: \n",
            "8\n",
            "Your guess is lower than the value: \n",
            "Enter your guess: \n",
            "9\n",
            "Your guess is lower than the value: \n",
            "Enter your guess: \n",
            "4\n",
            "Your guess is lower than the value: \n",
            "Your attempts are over: \n"
          ]
        }
      ]
    },
    {
      "cell_type": "code",
      "source": [
        "#Rock Paper Scissor\n",
        "import random"
      ],
      "metadata": {
        "id": "12hlkAq74lqw"
      },
      "execution_count": null,
      "outputs": []
    },
    {
      "cell_type": "code",
      "source": [
        "print(f'Enter your choice: 1.Rock 2.Paper 3.Scissors')\n",
        "user= int(input(f'Choice 1/2/3: '))\n",
        "cc= random.randint(1,3)\n",
        "print(f'Computer choice is: {cc}')\n",
        "\n",
        "if (user == cc):\n",
        "  print(f'Draw')\n",
        "elif (user == 1):\n",
        "  if (cc == 2):\n",
        "    print(f'Computer wins')\n",
        "  else:\n",
        "    print(f'User wins')\n",
        "elif (user == 2):\n",
        "  if (cc == 3):\n",
        "    print(f'Computer wins')\n",
        "  else:\n",
        "    print(f'User wins')\n",
        "elif (user == 3):\n",
        "  if (cc == 1):\n",
        "    print(f'Computer wins')\n",
        "  else:\n",
        "    print(f'User wins')\n"
      ],
      "metadata": {
        "colab": {
          "base_uri": "https://localhost:8080/"
        },
        "id": "D0suI9n-Ofvx",
        "outputId": "00fe87c4-69ac-454d-9d30-37204627e5bc"
      },
      "execution_count": null,
      "outputs": [
        {
          "output_type": "stream",
          "name": "stdout",
          "text": [
            "Enter your choice: 1.Rock 2.Paper 3.Scissors\n",
            "Choice 1/2/3: 2\n",
            "Computer choice is: 1\n",
            "User wins\n"
          ]
        }
      ]
    },
    {
      "cell_type": "code",
      "source": [
        "#Math Game\n",
        "import random"
      ],
      "metadata": {
        "id": "etSwaFZFPEJ8"
      },
      "execution_count": null,
      "outputs": []
    },
    {
      "cell_type": "code",
      "source": [
        "one= random.randint(1,10)\n",
        "two= random.randint(1,10)\n",
        "user= int(input(f'Guess the multiplication: '))\n",
        "print(f'Numbers are: {one} , {two}')\n",
        "res= one*two\n",
        "\n",
        "if (res == user):\n",
        "  print(f'Wow your guess is right.')\n",
        "else:\n",
        "  print(f'Original answer is: {res}')\n",
        "\n"
      ],
      "metadata": {
        "colab": {
          "base_uri": "https://localhost:8080/"
        },
        "id": "aX4qjDp-QoOD",
        "outputId": "f5562a6a-7d24-4e45-a349-1b83bfdb713c"
      },
      "execution_count": null,
      "outputs": [
        {
          "output_type": "stream",
          "name": "stdout",
          "text": [
            "Guess the multiplication: 12\n",
            "Numbers are: 3 , 6\n",
            "Original answer is: 18\n"
          ]
        }
      ]
    },
    {
      "cell_type": "code",
      "source": [],
      "metadata": {
        "id": "b2tBjIPURQiJ"
      },
      "execution_count": null,
      "outputs": []
    }
  ]
}