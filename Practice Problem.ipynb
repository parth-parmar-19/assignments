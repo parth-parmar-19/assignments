{
  "nbformat": 4,
  "nbformat_minor": 0,
  "metadata": {
    "colab": {
      "provenance": []
    },
    "kernelspec": {
      "name": "python3",
      "display_name": "Python 3"
    },
    "language_info": {
      "name": "python"
    }
  },
  "cells": [
    {
      "cell_type": "code",
      "execution_count": null,
      "metadata": {
        "colab": {
          "base_uri": "https://localhost:8080/"
        },
        "id": "QygaBK480jNb",
        "outputId": "5e87e165-dde9-48c3-d916-a20ee48d2553"
      },
      "outputs": [
        {
          "output_type": "stream",
          "name": "stdout",
          "text": [
            "Enter the first angle: 80\n",
            "Enter the double angle: 80\n",
            "Enter the third angle: 90\n",
            "Error\n"
          ]
        }
      ],
      "source": [
        "angle1 = int(input(\"Enter the first angle: \"))\n",
        "angle2 = int(input(\"Enter the double angle: \"))\n",
        "angle3 = int(input(\"Enter the third angle: \"))\n",
        "res = angle1 + angle2 + angle3\n",
        "\n",
        "if (res==180):\n",
        "  print(\"This is a triangle\")\n",
        "else:\n",
        "  print(\"Error\")"
      ]
    },
    {
      "cell_type": "code",
      "source": [
        "ls = [1,3,45,6,77,8,8,44,]\n",
        "print(len(ls))"
      ],
      "metadata": {
        "colab": {
          "base_uri": "https://localhost:8080/"
        },
        "id": "rNL6Sxm812sk",
        "outputId": "d9fa6b79-a395-4f1b-ca2f-9c425a284251"
      },
      "execution_count": null,
      "outputs": [
        {
          "output_type": "stream",
          "name": "stdout",
          "text": [
            "8\n"
          ]
        }
      ]
    },
    {
      "cell_type": "code",
      "source": [
        "SP = int(input(\"Enter sp: \"))\n",
        "CP = int(input(\"Enter cp: \"))\n",
        "Profit = SP - CP\n",
        "Loss = CP - SP\n",
        "if (Profit>=0):\n",
        "  print(\"Profit\")\n",
        "elif (Loss>=0):\n",
        "  print(\"Loss\")\n",
        "else:\n",
        "  print(\"Error\")\n",
        "\n"
      ],
      "metadata": {
        "colab": {
          "base_uri": "https://localhost:8080/"
        },
        "id": "aBb7Pk8v3S2j",
        "outputId": "df06603d-a8ae-41a5-a296-a456036ff091"
      },
      "execution_count": null,
      "outputs": [
        {
          "output_type": "stream",
          "name": "stdout",
          "text": [
            "Enter sp: 20\n",
            "Enter cp: 30\n",
            "Loss\n"
          ]
        }
      ]
    },
    {
      "cell_type": "code",
      "source": [],
      "metadata": {
        "colab": {
          "base_uri": "https://localhost:8080/"
        },
        "id": "hddDMmmI46Pt",
        "outputId": "d70d1cb4-bfe5-4dba-974e-158b3f1ad14a"
      },
      "execution_count": null,
      "outputs": [
        {
          "output_type": "execute_result",
          "data": {
            "text/plain": [
              "1"
            ]
          },
          "metadata": {},
          "execution_count": 14
        }
      ]
    },
    {
      "cell_type": "code",
      "source": [],
      "metadata": {
        "id": "i6_FViY15-Sz"
      },
      "execution_count": null,
      "outputs": []
    }
  ]
}