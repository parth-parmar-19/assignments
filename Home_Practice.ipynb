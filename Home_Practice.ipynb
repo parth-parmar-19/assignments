{
  "nbformat": 4,
  "nbformat_minor": 0,
  "metadata": {
    "colab": {
      "provenance": []
    },
    "kernelspec": {
      "name": "python3",
      "display_name": "Python 3"
    },
    "language_info": {
      "name": "python"
    }
  },
  "cells": [
    {
      "cell_type": "code",
      "execution_count": null,
      "metadata": {
        "colab": {
          "base_uri": "https://localhost:8080/"
        },
        "id": "WlUsTgvP1Z1K",
        "outputId": "a4ab30c3-9b7d-4f60-dd1d-9de865272375"
      },
      "outputs": [
        {
          "output_type": "stream",
          "name": "stdout",
          "text": [
            " Enter the value of a: 60\n",
            " Enter the value of b: 60\n",
            " Enter the value of c: 60\n",
            " It is a triangle: \n"
          ]
        }
      ],
      "source": [
        "# Problem 2: Write a program that take a user input of three angles and will find out whether it can form a triangle or not.\n",
        "a= int(input(f' Enter the value of a: '))\n",
        "b= int(input(f' Enter the value of b: '))\n",
        "c= int(input(f' Enter the value of c: '))\n",
        "sum= a+b+c\n",
        "\n",
        "if(sum==180):\n",
        "  print(f' It is a triangle: ')\n",
        "else:\n",
        "  print(f' It is not a triangle: ')"
      ]
    },
    {
      "cell_type": "code",
      "source": [
        "ls= [1,2,3,4,5,8,7,9,5,2]\n"
      ],
      "metadata": {
        "id": "1FQ9niQ12T-c"
      },
      "execution_count": null,
      "outputs": []
    },
    {
      "cell_type": "code",
      "source": [
        "print(len(ls))"
      ],
      "metadata": {
        "colab": {
          "base_uri": "https://localhost:8080/"
        },
        "id": "IYR-ebjh3zAY",
        "outputId": "5539a8dd-db9a-4fa6-bfe4-1f2fc9c3667b"
      },
      "execution_count": null,
      "outputs": [
        {
          "output_type": "stream",
          "name": "stdout",
          "text": [
            "10\n"
          ]
        }
      ]
    },
    {
      "cell_type": "code",
      "source": [
        "ls.len()"
      ],
      "metadata": {
        "colab": {
          "base_uri": "https://localhost:8080/",
          "height": 165
        },
        "id": "WWWLgh5133my",
        "outputId": "a176d846-ea1c-4133-fba8-bb1f2bcaa27a"
      },
      "execution_count": null,
      "outputs": [
        {
          "output_type": "error",
          "ename": "AttributeError",
          "evalue": "ignored",
          "traceback": [
            "\u001b[0;31m---------------------------------------------------------------------------\u001b[0m",
            "\u001b[0;31mAttributeError\u001b[0m                            Traceback (most recent call last)",
            "\u001b[0;32m<ipython-input-6-fa871b6917ec>\u001b[0m in \u001b[0;36m<module>\u001b[0;34m\u001b[0m\n\u001b[0;32m----> 1\u001b[0;31m \u001b[0mls\u001b[0m\u001b[0;34m.\u001b[0m\u001b[0mlen\u001b[0m\u001b[0;34m(\u001b[0m\u001b[0;34m)\u001b[0m\u001b[0;34m\u001b[0m\u001b[0;34m\u001b[0m\u001b[0m\n\u001b[0m",
            "\u001b[0;31mAttributeError\u001b[0m: 'list' object has no attribute 'len'"
          ]
        }
      ]
    },
    {
      "cell_type": "code",
      "source": [
        "cost= int(input(f'Enter the cost price: '))\n",
        "sell= int(input(f'Enter the selling price: '))\n",
        "if(cost>sell):\n",
        "  print('loss')\n",
        "elif(cost<sell):\n",
        "  print('profit')\n",
        "else:\n",
        "  print('nothing')"
      ],
      "metadata": {
        "colab": {
          "base_uri": "https://localhost:8080/"
        },
        "id": "jyr6_5O04NGs",
        "outputId": "4a13a0a7-4076-4174-d76d-b6eebd32a9db"
      },
      "execution_count": null,
      "outputs": [
        {
          "output_type": "stream",
          "name": "stdout",
          "text": [
            "Enter the cost price: 50\n",
            "Enter the selling price: 60\n",
            "profit\n"
          ]
        }
      ]
    },
    {
      "cell_type": "code",
      "source": [
        "def add_sub(a,b):\n",
        "  return a+b, a-b\n",
        "res= add_sub(6,4)\n",
        "print(res)"
      ],
      "metadata": {
        "colab": {
          "base_uri": "https://localhost:8080/"
        },
        "id": "Ijdwz7jB5RQf",
        "outputId": "93229b85-1540-45ee-ed5e-5ae4f86a4424"
      },
      "execution_count": null,
      "outputs": [
        {
          "output_type": "stream",
          "name": "stdout",
          "text": [
            "(10, 2)\n"
          ]
        }
      ]
    },
    {
      "cell_type": "code",
      "source": [],
      "metadata": {
        "id": "JHXwH259978D"
      },
      "execution_count": null,
      "outputs": []
    }
  ]
}