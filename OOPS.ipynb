{
  "nbformat": 4,
  "nbformat_minor": 0,
  "metadata": {
    "colab": {
      "provenance": []
    },
    "kernelspec": {
      "name": "python3",
      "display_name": "Python 3"
    },
    "language_info": {
      "name": "python"
    }
  },
  "cells": [
    {
      "cell_type": "code",
      "execution_count": null,
      "metadata": {
        "colab": {
          "base_uri": "https://localhost:8080/"
        },
        "id": "uG1yEIbJibde",
        "outputId": "c7aaa453-dd13-4400-f010-ac5211417b16"
      },
      "outputs": [
        {
          "output_type": "stream",
          "name": "stdout",
          "text": [
            "Hello World\n"
          ]
        }
      ],
      "source": [
        "class Animal:\n",
        "  print(f'Hello World')"
      ]
    },
    {
      "cell_type": "code",
      "source": [
        "class Animal:\n",
        "  def display(self):\n",
        "    print(f'Animal class')\n",
        "\n",
        "obj= Animal()\n",
        "obj.display()"
      ],
      "metadata": {
        "colab": {
          "base_uri": "https://localhost:8080/"
        },
        "id": "gLDjMlI-i1Dx",
        "outputId": "4a1ed141-9006-4acf-bc87-342db5eced49"
      },
      "execution_count": null,
      "outputs": [
        {
          "output_type": "stream",
          "name": "stdout",
          "text": [
            "Animal class\n"
          ]
        }
      ]
    },
    {
      "cell_type": "code",
      "source": [
        "class Hello:\n",
        "  def show(self, name, age):\n",
        "    print(f'Your name is {name} and your age is {age}')\n",
        "\n",
        "obj= Hello()\n",
        "obj.show('Parth', 24)"
      ],
      "metadata": {
        "colab": {
          "base_uri": "https://localhost:8080/"
        },
        "id": "peF9cuohjGA2",
        "outputId": "2623459b-7a64-4df8-9f4c-cced043b92de"
      },
      "execution_count": null,
      "outputs": [
        {
          "output_type": "stream",
          "name": "stdout",
          "text": [
            "Your name is Parth and your age is 24\n"
          ]
        }
      ]
    },
    {
      "cell_type": "code",
      "source": [
        "class Hello:\n",
        "  def __init__(self, name, age):\n",
        "    self.name= name\n",
        "    self.age= age\n",
        "\n",
        "  def display(self):\n",
        "    print(f'Your name is {self.name} and your age is {self.age}')\n",
        "\n",
        "obj= Hello('Parth', 24)\n",
        "obj.display()"
      ],
      "metadata": {
        "colab": {
          "base_uri": "https://localhost:8080/"
        },
        "id": "7xZccfWMjg3H",
        "outputId": "92b2ac76-37bc-4aab-ed2a-815a164c6a54"
      },
      "execution_count": null,
      "outputs": [
        {
          "output_type": "stream",
          "name": "stdout",
          "text": [
            "Your name is Parth and your age is 24\n"
          ]
        }
      ]
    },
    {
      "cell_type": "code",
      "source": [
        "class Dog:\n",
        "  def __init__(self, name,age):\n",
        "    self.name= name\n",
        "    self.age= age\n",
        "\n",
        "  def sit(self):\n",
        "    print(f'My dog name is {self.name}, My dog is {self.age} years old and {self.name} is now sitting')\n",
        "\n",
        "  def rollover(self):\n",
        "    print(f'Your dog name is {self.name}, Your dog is {self.age} and {self.name} is now sitting')\n",
        "\n",
        "obj= Dog('Willie', 6)\n",
        "obj1= Dog('Lucy', 3)\n",
        "obj.sit()\n",
        "obj1.rollover()\n",
        "\n"
      ],
      "metadata": {
        "colab": {
          "base_uri": "https://localhost:8080/"
        },
        "id": "esOw7qQSkr8F",
        "outputId": "2f1e00fa-ccaa-4efc-d547-77f69d4a21f7"
      },
      "execution_count": null,
      "outputs": [
        {
          "output_type": "stream",
          "name": "stdout",
          "text": [
            "My dog name is Willie, My dog is 6 years old and Willie is now sitting\n",
            "Your dog name is Lucy, Your dog is 3 and Lucy is now sitting\n"
          ]
        }
      ]
    },
    {
      "cell_type": "code",
      "source": [
        "class Restaurant:\n",
        "  def __init__(self, name, cusine):\n",
        "    self.name= name\n",
        "    self.cusine= cusine\n",
        "\n",
        "  def describe(self):\n",
        "    print(f'The name of restaurant is {self.name} and types of cusine is {self.cusine}')\n",
        "\n",
        "  def open(self):\n",
        "    print(f'The restauarnt is open')\n",
        "\n",
        "obj= Restaurant('Taj Hotel', 'Italian')\n",
        "obj.open()\n",
        "obj.describe()"
      ],
      "metadata": {
        "colab": {
          "base_uri": "https://localhost:8080/"
        },
        "id": "V2ATyWahm0Vd",
        "outputId": "9f3d4d61-e474-4939-d4bb-1894cfcda6e9"
      },
      "execution_count": null,
      "outputs": [
        {
          "output_type": "stream",
          "name": "stdout",
          "text": [
            "The restauarnt is open\n",
            "The name of restaurant is Taj Hotel and types of cusine is Italian\n"
          ]
        }
      ]
    },
    {
      "cell_type": "code",
      "source": [
        "class User:\n",
        "  def __init__(self, name, age, gender, contact_no):\n",
        "    self.name= name\n",
        "    self.age= age\n",
        "    self.gender= gender\n",
        "    self.contact_no= contact_no\n",
        "\n",
        "  def greet(self):\n",
        "    print(f'Welcome to the world {self.name}')\n",
        "\n",
        "  def describe(self):\n",
        "    print(f'Your name is {self.name}, Your age is {self.age}, You are {self.gender} and Your number is {self.contact_no}')\n",
        "\n",
        "obj= User('Parth', 24, 'Male', 123456)\n",
        "obj.greet()\n",
        "obj.describe()"
      ],
      "metadata": {
        "colab": {
          "base_uri": "https://localhost:8080/"
        },
        "id": "YJmtQi7tpYAI",
        "outputId": "3af4dc52-44fc-46e4-d2e5-f75f01b0cf5b"
      },
      "execution_count": null,
      "outputs": [
        {
          "output_type": "stream",
          "name": "stdout",
          "text": [
            "Welcome to the world Parth\n",
            "Your name is Parth, Your age is 24, You are Male and Your number is 123456\n"
          ]
        }
      ]
    },
    {
      "cell_type": "code",
      "source": [],
      "metadata": {
        "id": "tS4sRIRvq1J_"
      },
      "execution_count": null,
      "outputs": []
    }
  ]
}