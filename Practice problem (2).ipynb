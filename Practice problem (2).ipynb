{
  "nbformat": 4,
  "nbformat_minor": 0,
  "metadata": {
    "colab": {
      "provenance": []
    },
    "kernelspec": {
      "name": "python3",
      "display_name": "Python 3"
    },
    "language_info": {
      "name": "python"
    }
  },
  "cells": [
    {
      "cell_type": "code",
      "execution_count": null,
      "metadata": {
        "colab": {
          "base_uri": "https://localhost:8080/"
        },
        "id": "u_GVvXPi4U6f",
        "outputId": "45eeb7f1-9abe-4c74-bce1-936c63ee2858"
      },
      "outputs": [
        {
          "output_type": "stream",
          "name": "stdout",
          "text": [
            "Enter your marks scored in maths out of 100: 87\n",
            "Enter your marks scored in science out of 100: 88\n",
            "Enter your marks scored in history out of 100: 100\n",
            "Enter your marks scored in Civics out of 100: 98\n",
            "Total Percentage is 93.25\n"
          ]
        }
      ],
      "source": [
        "#Percentage\n",
        "Maths = int(input(\"Enter your marks scored in maths out of 100: \"))\n",
        "Science = int(input(\"Enter your marks scored in science out of 100: \"))\n",
        "History = int(input(\"Enter your marks scored in history out of 100: \"))\n",
        "Civics = int(input(\"Enter your marks scored in Civics out of 100: \"))\n",
        "Percentage = (Maths + Science + History + Civics)*0.25\n",
        "print(f'Total Percentage is {Percentage}')"
      ]
    },
    {
      "cell_type": "code",
      "source": [
        "Celcius = int(input(\"Enter the value of celcius: \"))\n",
        "Fahrenheit = 1.8*Celcius + 32\n",
        "print(f' {Fahrenheit}')"
      ],
      "metadata": {
        "colab": {
          "base_uri": "https://localhost:8080/"
        },
        "id": "4wKVyxVW5R97",
        "outputId": "fa1d6a2a-1fed-466e-f85c-6094acfe489f"
      },
      "execution_count": null,
      "outputs": [
        {
          "output_type": "stream",
          "name": "stdout",
          "text": [
            "Enter the value of celcius: 45\n",
            " 113.0\n"
          ]
        }
      ]
    },
    {
      "cell_type": "code",
      "source": [
        "x = 10\n",
        "print(type(x))\n",
        "\n"
      ],
      "metadata": {
        "colab": {
          "base_uri": "https://localhost:8080/"
        },
        "id": "sLNk2lTJ56eg",
        "outputId": "a5413f52-7c04-451a-bfb7-e777d2ad652d"
      },
      "execution_count": null,
      "outputs": [
        {
          "output_type": "stream",
          "name": "stdout",
          "text": [
            "<class 'int'>\n"
          ]
        }
      ]
    },
    {
      "cell_type": "code",
      "source": [
        "#Factorial\n",
        "\n",
        "\n",
        "Num = int(input(\"Enter the number: \"))\n",
        "print(f'Factorial of the Num is {math.factorial(Num)} ')\n"
      ],
      "metadata": {
        "colab": {
          "base_uri": "https://localhost:8080/"
        },
        "id": "xfWjr-u-6KYk",
        "outputId": "98a8ce0d-4ba1-4345-b730-510585ee729b"
      },
      "execution_count": null,
      "outputs": [
        {
          "output_type": "stream",
          "name": "stdout",
          "text": [
            "Enter the number: 10\n",
            "Factorial of the Num is 3628800 \n"
          ]
        }
      ]
    },
    {
      "cell_type": "code",
      "source": [],
      "metadata": {
        "id": "KrJW1qm88kU_"
      },
      "execution_count": null,
      "outputs": []
    }
  ]
}